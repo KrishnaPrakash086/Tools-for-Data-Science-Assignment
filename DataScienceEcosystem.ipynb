{
 "cells": [
  {
   "cell_type": "markdown",
   "id": "43c65742-2383-40eb-a4d7-15fcd9d972f0",
   "metadata": {},
   "source": [
    "# Data Science Tools and Ecosystem\n"
   ]
  },
  {
   "cell_type": "markdown",
   "id": "86ae331c-054c-4dba-99f1-5b81654d9af3",
   "metadata": {},
   "source": [
    "In this notebook, Data Science Tools and Ecosystem are summarized.\n"
   ]
  },
  {
   "cell_type": "markdown",
   "id": "c1190b5d-7a62-40bf-aa82-d850fcaec143",
   "metadata": {},
   "source": [
    "Some of the popular languages that Data Scientists use are:  \n",
    "1. Python  \n",
    "2. R  \n",
    "3. SQL  \n",
    "4. Julia  \n",
    "5. Java  \n"
   ]
  },
  {
   "cell_type": "markdown",
   "id": "d172ec86-5982-4943-abca-813e5160089e",
   "metadata": {},
   "source": [
    "Some of the commonly used libraries used by Data Scientists include:  \n",
    "1. NumPy  \n",
    "2. Pandas  \n",
    "3. Matplotlib  \n",
    "4. Scikit-learn  \n",
    "5. TensorFlow  \n"
   ]
  },
  {
   "cell_type": "markdown",
   "id": "66c4a315-3630-4f57-9f86-465f045aa580",
   "metadata": {},
   "source": [
    "| Data Science Tools       |  \n",
    "|--------------------------|  \n",
    "| Jupyter Notebook         |  \n",
    "| RStudio                  |  \n",
    "| Apache Zeppelin          |  \n"
   ]
  },
  {
   "cell_type": "markdown",
   "id": "1321a7f7-91e7-4c11-8a8c-270c07391607",
   "metadata": {},
   "source": [
    "### Below are a few examples of evaluating arithmetic expressions in Python.\n",
    "(3 * 4) + 5 "
   ]
  },
  {
   "cell_type": "code",
   "execution_count": 7,
   "id": "21e13a6c-0d10-4443-b81a-75b2d826b3b7",
   "metadata": {},
   "outputs": [
    {
     "data": {
      "text/plain": [
       "17"
      ]
     },
     "execution_count": 7,
     "metadata": {},
     "output_type": "execute_result"
    }
   ],
   "source": [
    "# This is a simple arithmetic expression to multiply and then add integers\n",
    "(3 * 4) + 5  \n"
   ]
  },
  {
   "cell_type": "code",
   "execution_count": 13,
   "id": "8a4f8221-933d-4cfb-9ce4-a714022eed5e",
   "metadata": {},
   "outputs": [
    {
     "data": {
      "text/plain": [
       "3.3333333333333335"
      ]
     },
     "execution_count": 13,
     "metadata": {},
     "output_type": "execute_result"
    }
   ],
   "source": [
    "# This will convert 200 minutes to hours by dividing by 60\n",
    "200 / 60  \n"
   ]
  },
  {
   "cell_type": "markdown",
   "id": "78e2f925-d4f6-4e14-8d9e-119bec27d4fb",
   "metadata": {},
   "source": [
    "**Objectives:**  \n",
    "- List popular languages for Data Science  \n",
    "- Introduce commonly used libraries for Data Science  \n",
    "- Present development tools used in Data Science  \n",
    "- Create examples of arithmetic expressions  \n",
    "- Share a Jupyter Notebook through GitHub  \n"
   ]
  },
  {
   "cell_type": "markdown",
   "id": "a49aa080-6900-437d-b890-937a3328e5fb",
   "metadata": {},
   "source": [
    "## Author  \n",
    "Krishna Prakash\n"
   ]
  },
  {
   "cell_type": "code",
   "execution_count": null,
   "id": "729b426f-fb8c-4756-ad02-0c2089af0009",
   "metadata": {},
   "outputs": [],
   "source": []
  }
 ],
 "metadata": {
  "kernelspec": {
   "display_name": "Python [conda env:base] *",
   "language": "python",
   "name": "conda-base-py"
  },
  "language_info": {
   "codemirror_mode": {
    "name": "ipython",
    "version": 3
   },
   "file_extension": ".py",
   "mimetype": "text/x-python",
   "name": "python",
   "nbconvert_exporter": "python",
   "pygments_lexer": "ipython3",
   "version": "3.12.7"
  }
 },
 "nbformat": 4,
 "nbformat_minor": 5
}
